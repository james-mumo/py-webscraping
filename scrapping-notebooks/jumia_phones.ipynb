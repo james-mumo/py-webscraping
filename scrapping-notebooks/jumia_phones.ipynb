{
 "cells": [
  {
   "cell_type": "code",
   "execution_count": 1,
   "id": "94aadbcc-63fb-4965-ab62-aaedc0904198",
   "metadata": {},
   "outputs": [],
   "source": [
    "from bs4 import BeautifulSoup\n",
    "import requests\n",
    "import pandas as pd\n"
   ]
  },
  {
   "cell_type": "code",
   "execution_count": null,
   "id": "5a9e442b-0b95-419d-9df5-d0153527c221",
   "metadata": {},
   "outputs": [],
   "source": []
  },
  {
   "cell_type": "code",
   "execution_count": 2,
   "id": "6950b787-b6a1-473a-b108-9d30cd2439f6",
   "metadata": {},
   "outputs": [],
   "source": [
    "# lets get the url\n",
    "full_url = 'https://www.jumia.co.ke/phones-tablets/?page=1#catalog-listing'\n",
    "baseurl = 'https://www.jumia.co.ke/phones-tablets/?page='\n",
    "num = '1'\n",
    "separator = '#catalog-listing'\n",
    "\n"
   ]
  },
  {
   "cell_type": "code",
   "execution_count": null,
   "id": "d68bad21-6751-4c71-81dd-fb84fb6b0ad5",
   "metadata": {},
   "outputs": [],
   "source": []
  },
  {
   "cell_type": "code",
   "execution_count": 3,
   "id": "fd5f3573-d542-444c-b0de-71aa9143ed62",
   "metadata": {},
   "outputs": [],
   "source": [
    "url = baseurl + num + separator\n",
    "\n",
    "# we get the res.text\n",
    "res = requests.get(url)\n",
    "soup = BeautifulSoup(res.text, 'html.parser')\n",
    "\n"
   ]
  },
  {
   "cell_type": "code",
   "execution_count": 4,
   "id": "19778581-a3ca-41a5-a0ca-d4e623d92f45",
   "metadata": {},
   "outputs": [
    {
     "name": "stdout",
     "output_type": "stream",
     "text": [
      "64\n"
     ]
    },
    {
     "data": {
      "text/plain": [
       "64"
      ]
     },
     "execution_count": 4,
     "metadata": {},
     "output_type": "execute_result"
    }
   ],
   "source": [
    "\n",
    "# lets get each phone based on the class name and store in an array\n",
    "for post in range(0, len(soup)):\n",
    "    phones_fromDiv = soup.find_all('div', {'class':'itm col'})\n",
    "    phones_fromArticle = soup.find_all('article', {'class': 'prd _fb col c-prd'})\n",
    "    phones = phones_fromDiv + phones_fromArticle\n",
    "    \n",
    "    phones_data = []\n",
    "    phones_dataFormat = []\n",
    "\n",
    "print(len(phones))\n",
    "\n",
    "# lets get detail of each phone in the phones and fill in the phones_data list\n",
    "\n",
    "for i in phones:    \n",
    "    try:\n",
    "        phone_name = i.find('div', {'class': 'name'}).get_text()\n",
    "    except AttributeError:\n",
    "        phone_name = i.find('h3', {'class': 'name'}).get_text()\n",
    "    \n",
    "    phone_price = i.find('div',{'class':'prc'}).get_text()\n",
    "    phone_image = i.find('img', class_='img')['data-src']\n",
    "\n",
    "        \n",
    "    phones_data.append([phone_name, phone_price, phone_image])\n",
    "\n",
    "len(phones_data)\n",
    "# print(phones_data, '\\n')\n",
    "    "
   ]
  },
  {
   "cell_type": "markdown",
   "id": "6f94b6aa-a174-4776-a5ea-64792a381a38",
   "metadata": {},
   "source": [
    "Now we create the df and the save to csv\n"
   ]
  },
  {
   "cell_type": "code",
   "execution_count": null,
   "id": "4277523b-c36b-49b1-b2d3-ec13552f8916",
   "metadata": {},
   "outputs": [],
   "source": []
  },
  {
   "cell_type": "code",
   "execution_count": 5,
   "id": "5d84cb76-272b-45be-9e52-40becbc8fced",
   "metadata": {},
   "outputs": [
    {
     "name": "stdout",
     "output_type": "stream",
     "text": [
      "<class 'pandas.core.frame.DataFrame'>\n",
      "RangeIndex: 64 entries, 0 to 63\n",
      "Data columns (total 3 columns):\n",
      " #   Column       Non-Null Count  Dtype \n",
      "---  ------       --------------  ----- \n",
      " 0   Phone Name   64 non-null     object\n",
      " 1   Phone Price  64 non-null     object\n",
      " 2   Phone Image  64 non-null     object\n",
      "dtypes: object(3)\n",
      "memory usage: 1.6+ KB\n"
     ]
    }
   ],
   "source": [
    "df = pd.DataFrame(phones_data, columns=[\"Phone Name\", \"Phone Price\", \"Phone Image\"])\n",
    "df.head()\n",
    "df.info()"
   ]
  },
  {
   "cell_type": "code",
   "execution_count": 6,
   "id": "5ed2ed76-69a3-440e-85a3-5e6db4453959",
   "metadata": {},
   "outputs": [],
   "source": [
    "# save as csv\n",
    "\n",
    "df.to_csv('jumia_phones.csv')"
   ]
  },
  {
   "cell_type": "code",
   "execution_count": null,
   "id": "3eb15c3d-ca33-482e-bde9-92a023293233",
   "metadata": {},
   "outputs": [],
   "source": []
  }
 ],
 "metadata": {
  "kernelspec": {
   "display_name": "Python 3 (ipykernel)",
   "language": "python",
   "name": "python3"
  },
  "language_info": {
   "codemirror_mode": {
    "name": "ipython",
    "version": 3
   },
   "file_extension": ".py",
   "mimetype": "text/x-python",
   "name": "python",
   "nbconvert_exporter": "python",
   "pygments_lexer": "ipython3",
   "version": "3.11.4"
  }
 },
 "nbformat": 4,
 "nbformat_minor": 5
}
