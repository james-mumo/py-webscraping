{
 "cells": [
  {
   "cell_type": "code",
   "execution_count": 1,
   "id": "94aadbcc-63fb-4965-ab62-aaedc0904198",
   "metadata": {},
   "outputs": [],
   "source": [
    "from bs4 import BeautifulSoup\n",
    "import requests\n",
    "import pandas as pd\n"
   ]
  },
  {
   "cell_type": "code",
   "execution_count": null,
   "id": "5a9e442b-0b95-419d-9df5-d0153527c221",
   "metadata": {},
   "outputs": [],
   "source": []
  },
  {
   "cell_type": "code",
   "execution_count": 40,
   "id": "6950b787-b6a1-473a-b108-9d30cd2439f6",
   "metadata": {},
   "outputs": [],
   "source": [
    "# lets get the url\n",
    "full_url = 'https://www.jumia.co.ke/mobile-phones/?page=1#catalog-listing'\n",
    "baseurl = 'https://www.jumia.co.ke/mobile-phones/?page='\n",
    "num = '1'\n",
    "separator = '#catalog-listing'\n",
    "\n"
   ]
  },
  {
   "cell_type": "markdown",
   "id": "c6b09b80-28b3-4c43-b0d7-09521dbcab91",
   "metadata": {},
   "source": [
    "## # fetching only one page"
   ]
  },
  {
   "cell_type": "code",
   "execution_count": 33,
   "id": "fd5f3573-d542-444c-b0de-71aa9143ed62",
   "metadata": {},
   "outputs": [
    {
     "name": "stdout",
     "output_type": "stream",
     "text": [
      "<title>Buy Mobile Phones and Tablets Online | Jumia Kenya</title>\n"
     ]
    }
   ],
   "source": [
    "url = baseurl + num + separator\n",
    "\n",
    "res = requests.get(url)\n",
    "soup = BeautifulSoup(res.text, 'html.parser')\n",
    "\n",
    "# log the title to prove its fine\n",
    "print(soup.title)\n",
    "\n"
   ]
  },
  {
   "cell_type": "code",
   "execution_count": null,
   "id": "c00ddb95-9911-411e-b206-368c7a535859",
   "metadata": {},
   "outputs": [],
   "source": []
  },
  {
   "cell_type": "code",
   "execution_count": 42,
   "id": "19778581-a3ca-41a5-a0ca-d4e623d92f45",
   "metadata": {},
   "outputs": [
    {
     "name": "stdout",
     "output_type": "stream",
     "text": [
      "110\n"
     ]
    }
   ],
   "source": [
    "# get all Phones in the page\n",
    "\n",
    "for i in soup:\n",
    "        phones_fromDiv = soup.find_all('div', {'class':'itm col'})\n",
    "        phones_fromArticle = soup.find_all('article', {'class': 'prd _fb col c-prd'})\n",
    "        phones = phones_fromDiv + phones_fromArticle\n",
    "\n",
    "\n",
    "# Print the length of the 'phones_fromDiv' list\n",
    "print(len(phones))\n"
   ]
  },
  {
   "cell_type": "code",
   "execution_count": 49,
   "id": "b206d1bc-b171-4ec6-80fd-89a728a4d807",
   "metadata": {},
   "outputs": [
    {
     "name": "stdout",
     "output_type": "stream",
     "text": [
      "110\n"
     ]
    }
   ],
   "source": [
    "# lets get the name and price and image\n",
    "phones_data = []\n",
    "for i in phones:\n",
    "    try:\n",
    "        name = i.find('div', {'class': 'name'}).get_text()\n",
    "    except AttributeError:\n",
    "        name = i.find('h3', {'class': 'name'}).get_text()  \n",
    "    image = i.find('img',{'class':'img'})['data-src']\n",
    "    price = i.find('div', {'class':'prc'}).get_text()\n",
    "    phones_data.append([name, price, image])\n",
    "\n",
    "print(len(phones_data))    "
   ]
  },
  {
   "cell_type": "markdown",
   "id": "6f94b6aa-a174-4776-a5ea-64792a381a38",
   "metadata": {},
   "source": [
    "Now we create the df and the save to csv\n"
   ]
  },
  {
   "cell_type": "code",
   "execution_count": null,
   "id": "4277523b-c36b-49b1-b2d3-ec13552f8916",
   "metadata": {},
   "outputs": [],
   "source": []
  },
  {
   "cell_type": "code",
   "execution_count": 51,
   "id": "5d84cb76-272b-45be-9e52-40becbc8fced",
   "metadata": {},
   "outputs": [
    {
     "data": {
      "text/html": [
       "<div>\n",
       "<style scoped>\n",
       "    .dataframe tbody tr th:only-of-type {\n",
       "        vertical-align: middle;\n",
       "    }\n",
       "\n",
       "    .dataframe tbody tr th {\n",
       "        vertical-align: top;\n",
       "    }\n",
       "\n",
       "    .dataframe thead th {\n",
       "        text-align: right;\n",
       "    }\n",
       "</style>\n",
       "<table border=\"1\" class=\"dataframe\">\n",
       "  <thead>\n",
       "    <tr style=\"text-align: right;\">\n",
       "      <th></th>\n",
       "      <th>phone_name</th>\n",
       "      <th>phone_price</th>\n",
       "      <th>image</th>\n",
       "    </tr>\n",
       "  </thead>\n",
       "  <tbody>\n",
       "    <tr>\n",
       "      <th>0</th>\n",
       "      <td>Tecno Spark 10 Pro, 6.8\" , 128GB + 8GB, 50MP, ...</td>\n",
       "      <td>KSh 23,399</td>\n",
       "      <td>https://ke.jumia.is/unsafe/fit-in/300x300/filt...</td>\n",
       "    </tr>\n",
       "    <tr>\n",
       "      <th>1</th>\n",
       "      <td>Samsung Galaxy A14, 6.6\", 128GB + 4GB, 50MP, D...</td>\n",
       "      <td>KSh 26,898</td>\n",
       "      <td>https://ke.jumia.is/unsafe/fit-in/300x300/filt...</td>\n",
       "    </tr>\n",
       "    <tr>\n",
       "      <th>2</th>\n",
       "      <td>Nokia C1 2nd Edition, 5.45\" - 16GB + 1GB (Dual...</td>\n",
       "      <td>KSh 8,799</td>\n",
       "      <td>https://ke.jumia.is/unsafe/fit-in/300x300/filt...</td>\n",
       "    </tr>\n",
       "    <tr>\n",
       "      <th>3</th>\n",
       "      <td>Oppo Reno 8 T, 4G,  6.43', 8GB + 256GB, 100MP ...</td>\n",
       "      <td>KSh 39,999</td>\n",
       "      <td>https://ke.jumia.is/unsafe/fit-in/300x300/filt...</td>\n",
       "    </tr>\n",
       "    <tr>\n",
       "      <th>4</th>\n",
       "      <td>Nokia G11 Plus 6.52\" 4GB + 64GB, 50MP, 5000MAh...</td>\n",
       "      <td>KSh 15,995</td>\n",
       "      <td>https://ke.jumia.is/unsafe/fit-in/300x300/filt...</td>\n",
       "    </tr>\n",
       "  </tbody>\n",
       "</table>\n",
       "</div>"
      ],
      "text/plain": [
       "                                          phone_name phone_price  \\\n",
       "0  Tecno Spark 10 Pro, 6.8\" , 128GB + 8GB, 50MP, ...  KSh 23,399   \n",
       "1  Samsung Galaxy A14, 6.6\", 128GB + 4GB, 50MP, D...  KSh 26,898   \n",
       "2  Nokia C1 2nd Edition, 5.45\" - 16GB + 1GB (Dual...   KSh 8,799   \n",
       "3  Oppo Reno 8 T, 4G,  6.43', 8GB + 256GB, 100MP ...  KSh 39,999   \n",
       "4  Nokia G11 Plus 6.52\" 4GB + 64GB, 50MP, 5000MAh...  KSh 15,995   \n",
       "\n",
       "                                               image  \n",
       "0  https://ke.jumia.is/unsafe/fit-in/300x300/filt...  \n",
       "1  https://ke.jumia.is/unsafe/fit-in/300x300/filt...  \n",
       "2  https://ke.jumia.is/unsafe/fit-in/300x300/filt...  \n",
       "3  https://ke.jumia.is/unsafe/fit-in/300x300/filt...  \n",
       "4  https://ke.jumia.is/unsafe/fit-in/300x300/filt...  "
      ]
     },
     "execution_count": 51,
     "metadata": {},
     "output_type": "execute_result"
    }
   ],
   "source": [
    "df = pd.DataFrame(phones_data, columns=[\"phone_name\", \"phone_price\", \"image\"])\n",
    "df.head()\n",
    "# df.info()"
   ]
  },
  {
   "cell_type": "code",
   "execution_count": 52,
   "id": "5ed2ed76-69a3-440e-85a3-5e6db4453959",
   "metadata": {},
   "outputs": [],
   "source": [
    "# save as csv\n",
    "\n",
    "df.to_csv('jumia_phones_p1.csv')"
   ]
  },
  {
   "cell_type": "code",
   "execution_count": null,
   "id": "3eb15c3d-ca33-482e-bde9-92a023293233",
   "metadata": {},
   "outputs": [],
   "source": []
  }
 ],
 "metadata": {
  "kernelspec": {
   "display_name": "Python 3 (ipykernel)",
   "language": "python",
   "name": "python3"
  },
  "language_info": {
   "codemirror_mode": {
    "name": "ipython",
    "version": 3
   },
   "file_extension": ".py",
   "mimetype": "text/x-python",
   "name": "python",
   "nbconvert_exporter": "python",
   "pygments_lexer": "ipython3",
   "version": "3.11.4"
  }
 },
 "nbformat": 4,
 "nbformat_minor": 5
}
