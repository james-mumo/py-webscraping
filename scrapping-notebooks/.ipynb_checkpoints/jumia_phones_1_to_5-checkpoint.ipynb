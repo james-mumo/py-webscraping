{
 "cells": [
  {
   "cell_type": "code",
   "execution_count": 1,
   "id": "94aadbcc-63fb-4965-ab62-aaedc0904198",
   "metadata": {},
   "outputs": [],
   "source": [
    "from bs4 import BeautifulSoup\n",
    "import requests\n",
    "import pandas as pd\n"
   ]
  },
  {
   "cell_type": "code",
   "execution_count": null,
   "id": "5a9e442b-0b95-419d-9df5-d0153527c221",
   "metadata": {},
   "outputs": [],
   "source": []
  },
  {
   "cell_type": "code",
   "execution_count": 29,
   "id": "6950b787-b6a1-473a-b108-9d30cd2439f6",
   "metadata": {},
   "outputs": [],
   "source": [
    "# lets get the url\n",
    "full_url = 'https://www.jumia.co.ke/mobile-phones/?page=1#catalog-listing'\n",
    "baseurl = 'https://www.jumia.co.ke/mobile-phones/?page='\n",
    "num = '1'\n",
    "separator = '#catalog-listing'\n",
    "\n"
   ]
  },
  {
   "cell_type": "code",
   "execution_count": null,
   "id": "d68bad21-6751-4c71-81dd-fb84fb6b0ad5",
   "metadata": {},
   "outputs": [],
   "source": []
  },
  {
   "cell_type": "code",
   "execution_count": 32,
   "id": "fd5f3573-d542-444c-b0de-71aa9143ed62",
   "metadata": {},
   "outputs": [
    {
     "name": "stdout",
     "output_type": "stream",
     "text": [
      "Total number of phones: 430\n"
     ]
    }
   ],
   "source": [
    "def fetchPageData(pageNum):\n",
    "    url = baseurl + str(pageNum) + separator\n",
    "    res = requests.get(url)\n",
    "    soup = BeautifulSoup(res.text, 'html.parser')\n",
    "    \n",
    "    phones_data = []\n",
    "    \n",
    "    phones_fromDiv = soup.find_all('div', {'class':'itm col'})\n",
    "    phones_fromArticle = soup.find_all('article', {'class': 'prd _fb col c-prd'})\n",
    "    phones = phones_fromDiv + phones_fromArticle\n",
    "    \n",
    "    for i in phones:\n",
    "        try:\n",
    "            name = i.find('div', {'class': 'name'}).get_text()\n",
    "        except AttributeError:\n",
    "            name = i.find('h3', {'class': 'name'}).get_text()  \n",
    "        image = i.find('img',{'class':'img'})['data-src']\n",
    "        price = i.find('div', {'class':'prc'}).get_text()\n",
    "        phones_data.append([name, price, image])\n",
    "    \n",
    "    return phones_data\n",
    "\n",
    "all_phones = []\n",
    "\n",
    "for pageNum in range(1, 10):\n",
    "    phones_from_page = fetchPageData(pageNum)\n",
    "    all_phones.extend(phones_from_page)\n",
    "\n",
    "print(\"Total number of phones:\", len(all_phones))\n",
    "# print(\"Phone data:\", all_phones)\n"
   ]
  },
  {
   "cell_type": "code",
   "execution_count": null,
   "id": "c00ddb95-9911-411e-b206-368c7a535859",
   "metadata": {},
   "outputs": [],
   "source": []
  },
  {
   "cell_type": "markdown",
   "id": "6f94b6aa-a174-4776-a5ea-64792a381a38",
   "metadata": {},
   "source": [
    "Now we create the df and the save to csv\n"
   ]
  },
  {
   "cell_type": "code",
   "execution_count": null,
   "id": "4277523b-c36b-49b1-b2d3-ec13552f8916",
   "metadata": {},
   "outputs": [],
   "source": []
  },
  {
   "cell_type": "code",
   "execution_count": 34,
   "id": "5d84cb76-272b-45be-9e52-40becbc8fced",
   "metadata": {},
   "outputs": [
    {
     "name": "stdout",
     "output_type": "stream",
     "text": [
      "<class 'pandas.core.frame.DataFrame'>\n",
      "RangeIndex: 430 entries, 0 to 429\n",
      "Data columns (total 3 columns):\n",
      " #   Column       Non-Null Count  Dtype \n",
      "---  ------       --------------  ----- \n",
      " 0   phone_name   430 non-null    object\n",
      " 1   phone_price  430 non-null    object\n",
      " 2   image        430 non-null    object\n",
      "dtypes: object(3)\n",
      "memory usage: 10.2+ KB\n"
     ]
    }
   ],
   "source": [
    "df = pd.DataFrame(all_phones, columns=[\"phone_name\", \"phone_price\", \"image\"])\n",
    "df.info()"
   ]
  },
  {
   "cell_type": "code",
   "execution_count": 35,
   "id": "5ed2ed76-69a3-440e-85a3-5e6db4453959",
   "metadata": {},
   "outputs": [],
   "source": [
    "# save as csv\n",
    "\n",
    "df.to_csv('10pages_jumia_phones.csv')"
   ]
  },
  {
   "cell_type": "code",
   "execution_count": 42,
   "id": "3eb15c3d-ca33-482e-bde9-92a023293233",
   "metadata": {},
   "outputs": [
    {
     "name": "stdout",
     "output_type": "stream",
     "text": [
      "https://ke.jumia.is/unsafe/fit-in/300x300/filters:fill(white)/product/62/2035901/1.jpg?7920\n"
     ]
    }
   ],
   "source": [
    "print(df.iloc[77].image)"
   ]
  }
 ],
 "metadata": {
  "kernelspec": {
   "display_name": "Python 3 (ipykernel)",
   "language": "python",
   "name": "python3"
  },
  "language_info": {
   "codemirror_mode": {
    "name": "ipython",
    "version": 3
   },
   "file_extension": ".py",
   "mimetype": "text/x-python",
   "name": "python",
   "nbconvert_exporter": "python",
   "pygments_lexer": "ipython3",
   "version": "3.11.4"
  }
 },
 "nbformat": 4,
 "nbformat_minor": 5
}
